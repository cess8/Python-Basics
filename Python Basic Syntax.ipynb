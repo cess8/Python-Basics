{
 "cells": [
  {
   "cell_type": "markdown",
   "metadata": {},
   "source": [
    "# Basics of Python Syntax\n",
    "2018-08-25\n"
   ]
  },
  {
   "cell_type": "code",
   "execution_count": 54,
   "metadata": {},
   "outputs": [
    {
     "name": "stdout",
     "output_type": "stream",
     "text": [
      "The version_information extension is already loaded. To reload it, use:\n",
      "  %reload_ext version_information\n"
     ]
    },
    {
     "data": {
      "application/json": {
       "Software versions": [
        {
         "module": "Python",
         "version": "3.6.5 64bit [GCC 4.2.1 Compatible Clang 4.0.1 (tags/RELEASE_401/final)]"
        },
        {
         "module": "IPython",
         "version": "6.4.0"
        },
        {
         "module": "OS",
         "version": "Darwin 17.7.0 x86_64 i386 64bit"
        }
       ]
      },
      "text/html": [
       "<table><tr><th>Software</th><th>Version</th></tr><tr><td>Python</td><td>3.6.5 64bit [GCC 4.2.1 Compatible Clang 4.0.1 (tags/RELEASE_401/final)]</td></tr><tr><td>IPython</td><td>6.4.0</td></tr><tr><td>OS</td><td>Darwin 17.7.0 x86_64 i386 64bit</td></tr><tr><td colspan='2'>Tue Aug 28 08:48:56 2018 PDT</td></tr></table>"
      ],
      "text/latex": [
       "\\begin{tabular}{|l|l|}\\hline\n",
       "{\\bf Software} & {\\bf Version} \\\\ \\hline\\hline\n",
       "Python & 3.6.5 64bit [GCC 4.2.1 Compatible Clang 4.0.1 (tags/RELEASE\\_401/final)] \\\\ \\hline\n",
       "IPython & 6.4.0 \\\\ \\hline\n",
       "OS & Darwin 17.7.0 x86\\_64 i386 64bit \\\\ \\hline\n",
       "\\hline \\multicolumn{2}{|l|}{Tue Aug 28 08:48:56 2018 PDT} \\\\ \\hline\n",
       "\\end{tabular}\n"
      ],
      "text/plain": [
       "Software versions\n",
       "Python 3.6.5 64bit [GCC 4.2.1 Compatible Clang 4.0.1 (tags/RELEASE_401/final)]\n",
       "IPython 6.4.0\n",
       "OS Darwin 17.7.0 x86_64 i386 64bit\n",
       "Tue Aug 28 08:48:56 2018 PDT"
      ]
     },
     "execution_count": 54,
     "metadata": {},
     "output_type": "execute_result"
    }
   ],
   "source": [
    "# Other system information retrivals\n",
    "# 1.import sys\n",
    "#print(sys.version)\n",
    "# 2. import numexpr\n",
    "#numexpr.print_versions()\n",
    "\n",
    "%load_ext version_information\n",
    "%version_information\n",
    "\n",
    "#magic list * time is useful\n",
    "#%lsmagic"
   ]
  },
  {
   "cell_type": "markdown",
   "metadata": {},
   "source": [
    "## 1. Basic Syntax\n",
    "Exponetial\n",
    "ex:"
   ]
  },
  {
   "cell_type": "code",
   "execution_count": 55,
   "metadata": {},
   "outputs": [
    {
     "data": {
      "text/plain": [
       "16"
      ]
     },
     "execution_count": 55,
     "metadata": {},
     "output_type": "execute_result"
    }
   ],
   "source": [
    "4**2"
   ]
  },
  {
   "cell_type": "markdown",
   "metadata": {},
   "source": [
    "Remaider of the division"
   ]
  },
  {
   "cell_type": "code",
   "execution_count": 56,
   "metadata": {},
   "outputs": [
    {
     "data": {
      "text/plain": [
       "4"
      ]
     },
     "execution_count": 56,
     "metadata": {},
     "output_type": "execute_result"
    }
   ],
   "source": [
    "18%7"
   ]
  },
  {
   "cell_type": "markdown",
   "metadata": {},
   "source": [
    "### Python Types\n",
    "\n",
    "-Converting [Converting Data Types](https://www.digitalocean.com/community/tutorials/how-to-convert-data-types-in-python-3)"
   ]
  },
  {
   "cell_type": "markdown",
   "metadata": {},
   "source": [
    "- **Strings**"
   ]
  },
  {
   "cell_type": "code",
   "execution_count": 57,
   "metadata": {},
   "outputs": [
    {
     "name": "stdout",
     "output_type": "stream",
     "text": [
      "<class 'str'>\n",
      "years\n"
     ]
    }
   ],
   "source": [
    "x = 'years'\n",
    "print(type(x))\n",
    "print(x)"
   ]
  },
  {
   "cell_type": "markdown",
   "metadata": {},
   "source": [
    "- converting to strings"
   ]
  },
  {
   "cell_type": "code",
   "execution_count": 58,
   "metadata": {},
   "outputs": [
    {
     "name": "stdout",
     "output_type": "stream",
     "text": [
      "<class 'str'>\n",
      "2\n"
     ]
    }
   ],
   "source": [
    "string = str(2)\n",
    "print(type(string))\n",
    "print(string)"
   ]
  },
  {
   "cell_type": "markdown",
   "metadata": {},
   "source": [
    "- String can be added"
   ]
  },
  {
   "cell_type": "code",
   "execution_count": 59,
   "metadata": {},
   "outputs": [
    {
     "name": "stdout",
     "output_type": "stream",
     "text": [
      "my years\n"
     ]
    }
   ],
   "source": [
    "y = 'my '\n",
    "\n",
    "print(y + x)"
   ]
  },
  {
   "cell_type": "markdown",
   "metadata": {},
   "source": [
    "- **Interger**\n",
    " - An integer (more commonly called an int) is a number without a decimal point."
   ]
  },
  {
   "cell_type": "markdown",
   "metadata": {},
   "source": [
    "-Converting to interger"
   ]
  },
  {
   "cell_type": "code",
   "execution_count": 60,
   "metadata": {},
   "outputs": [
    {
     "name": "stdout",
     "output_type": "stream",
     "text": [
      "2\n"
     ]
    },
    {
     "data": {
      "text/plain": [
       "int"
      ]
     },
     "execution_count": 60,
     "metadata": {},
     "output_type": "execute_result"
    }
   ],
   "source": [
    "interger = int(2)\n",
    "print(interger)\n",
    "type(interger)"
   ]
  },
  {
   "cell_type": "markdown",
   "metadata": {},
   "source": [
    "- **Float**\n",
    " - A float is a floating-point number, which means it is a number that has a decimal place"
   ]
  },
  {
   "cell_type": "code",
   "execution_count": 61,
   "metadata": {},
   "outputs": [
    {
     "name": "stdout",
     "output_type": "stream",
     "text": [
      "1.2\n"
     ]
    }
   ],
   "source": [
    "float = 1.2\n",
    "print(float)"
   ]
  },
  {
   "cell_type": "markdown",
   "metadata": {},
   "source": [
    "##  2. Python Lists\n",
    "1. list\n",
    "2. sub-list"
   ]
  },
  {
   "cell_type": "code",
   "execution_count": 62,
   "metadata": {},
   "outputs": [
    {
     "name": "stdout",
     "output_type": "stream",
     "text": [
      "['me', 1.3, 'you', 2.0, 'variable', 5.0]\n",
      "[['me', 10], ['you', 5.0]]\n"
     ]
    }
   ],
   "source": [
    "my_list = ['me', 1.3, 'you', 2.0, 'variable', 5.0 ]\n",
    "sub_list = [['me', 10], ['you', 5.0]]\n",
    "print(my_list)\n",
    "print(sub_list)"
   ]
  },
  {
   "cell_type": "markdown",
   "metadata": {},
   "source": [
    "### Subsetting lists\n",
    "- index start from 0, 1, 2, ..."
   ]
  },
  {
   "cell_type": "markdown",
   "metadata": {},
   "source": [
    "- 2 types of selecting from list"
   ]
  },
  {
   "cell_type": "code",
   "execution_count": 63,
   "metadata": {},
   "outputs": [
    {
     "data": {
      "text/plain": [
       "'variable'"
      ]
     },
     "execution_count": 63,
     "metadata": {},
     "output_type": "execute_result"
    }
   ],
   "source": [
    "my_list[4]"
   ]
  },
  {
   "cell_type": "code",
   "execution_count": 64,
   "metadata": {},
   "outputs": [
    {
     "data": {
      "text/plain": [
       "'variable'"
      ]
     },
     "execution_count": 64,
     "metadata": {},
     "output_type": "execute_result"
    }
   ],
   "source": [
    "my_list[-2]"
   ]
  },
  {
   "cell_type": "markdown",
   "metadata": {},
   "source": [
    "- List slicing\n",
    " - does **not** include number after the colon\n",
    " - [ Start : End]"
   ]
  },
  {
   "cell_type": "code",
   "execution_count": 65,
   "metadata": {},
   "outputs": [
    {
     "data": {
      "text/plain": [
       "['you', 2.0]"
      ]
     },
     "execution_count": 65,
     "metadata": {},
     "output_type": "execute_result"
    }
   ],
   "source": [
    "my_list[2:4]"
   ]
  },
  {
   "cell_type": "markdown",
   "metadata": {},
   "source": [
    "- Summing within list"
   ]
  },
  {
   "cell_type": "code",
   "execution_count": 66,
   "metadata": {},
   "outputs": [
    {
     "name": "stdout",
     "output_type": "stream",
     "text": [
      "3.3\n"
     ]
    }
   ],
   "source": [
    "sum_list = my_list[1] + my_list[3]\n",
    "print(sum_list)"
   ]
  },
  {
   "cell_type": "markdown",
   "metadata": {},
   "source": [
    "- Selecting massively\n",
    " - [:end]\n",
    " - [start:]"
   ]
  },
  {
   "cell_type": "code",
   "execution_count": 67,
   "metadata": {},
   "outputs": [
    {
     "data": {
      "text/plain": [
       "['me', 1.3]"
      ]
     },
     "execution_count": 67,
     "metadata": {},
     "output_type": "execute_result"
    }
   ],
   "source": [
    "my_list[:2]"
   ]
  },
  {
   "cell_type": "markdown",
   "metadata": {},
   "source": [
    "### Change List Elements\n",
    "- change it to ME and 100"
   ]
  },
  {
   "cell_type": "code",
   "execution_count": 68,
   "metadata": {},
   "outputs": [
    {
     "name": "stdout",
     "output_type": "stream",
     "text": [
      "['ME', 100.0, 'you', 2.0, 'variable', 5.0]\n"
     ]
    }
   ],
   "source": [
    "my_list[:2] = ['ME', 100.0]\n",
    "print(my_list)"
   ]
  },
  {
   "cell_type": "markdown",
   "metadata": {},
   "source": [
    "### Adding and Removing Elements"
   ]
  },
  {
   "cell_type": "markdown",
   "metadata": {},
   "source": [
    "1. Adding element"
   ]
  },
  {
   "cell_type": "code",
   "execution_count": 69,
   "metadata": {},
   "outputs": [
    {
     "name": "stdout",
     "output_type": "stream",
     "text": [
      "['ME', 100.0, 'you', 2.0, 'variable', 5.0, 'him', 8.0]\n"
     ]
    }
   ],
   "source": [
    "update_my_list = my_list + ['him', 8.0]\n",
    "print(update_my_list)"
   ]
  },
  {
   "cell_type": "markdown",
   "metadata": {},
   "source": [
    "2. Removing element"
   ]
  },
  {
   "cell_type": "code",
   "execution_count": 70,
   "metadata": {},
   "outputs": [
    {
     "name": "stdout",
     "output_type": "stream",
     "text": [
      "['ME', 100.0, 'you', 2.0, 'variable', 5.0]\n"
     ]
    }
   ],
   "source": [
    "del(update_my_list[6:])\n",
    "print(update_my_list)"
   ]
  },
  {
   "cell_type": "markdown",
   "metadata": {},
   "source": [
    "### Updating Lists"
   ]
  },
  {
   "cell_type": "markdown",
   "metadata": {},
   "source": [
    "1. Implicit update"
   ]
  },
  {
   "cell_type": "code",
   "execution_count": 71,
   "metadata": {},
   "outputs": [
    {
     "name": "stdout",
     "output_type": "stream",
     "text": [
      "['ME', 100.0, 'you', 2.0, 'variable', 5.0]\n",
      "['ME', 100.0, 'YOU', 2.0, 'variable', 5.0]\n"
     ]
    }
   ],
   "source": [
    "my_list_copy=my_list\n",
    "print(my_list_copy)\n",
    "my_list_copy[2]=\"YOU\"\n",
    "print(my_list_copy)"
   ]
  },
  {
   "cell_type": "markdown",
   "metadata": {},
   "source": [
    " - Also changes the original list\n",
    "  - 'YOU' for my_list"
   ]
  },
  {
   "cell_type": "code",
   "execution_count": 72,
   "metadata": {},
   "outputs": [
    {
     "name": "stdout",
     "output_type": "stream",
     "text": [
      "['ME', 100.0, 'YOU', 2.0, 'variable', 5.0]\n"
     ]
    }
   ],
   "source": [
    "print(my_list)"
   ]
  },
  {
   "cell_type": "markdown",
   "metadata": {},
   "source": [
    "2. Explicit Update"
   ]
  },
  {
   "cell_type": "code",
   "execution_count": 73,
   "metadata": {},
   "outputs": [],
   "source": [
    "my_list_copy_explicit= list(my_list)\n"
   ]
  },
  {
   "cell_type": "markdown",
   "metadata": {},
   "source": [
    "or"
   ]
  },
  {
   "cell_type": "code",
   "execution_count": 74,
   "metadata": {},
   "outputs": [],
   "source": [
    "my_list_copy_explicit_slicing=my_list[:]"
   ]
  },
  {
   "cell_type": "code",
   "execution_count": 75,
   "metadata": {},
   "outputs": [
    {
     "name": "stdout",
     "output_type": "stream",
     "text": [
      "['ME', 100.0, 'YOU', 2.0, 'VARIABLE', 5.0]\n",
      "['ME', 100.0, 'YOU', 2.0, 'VARIABLE', 5.0]\n",
      "['ME', 100.0, 'YOU', 2.0, 'variable', 5.0]\n"
     ]
    }
   ],
   "source": [
    "my_list_copy_explicit[4]=\"VARIABLE\"\n",
    "print(my_list_copy_explicit)\n",
    "my_list_copy_explicit_slicing[4]=\"VARIABLE\"\n",
    "print(my_list_copy_explicit_slicing)\n",
    "print(my_list)"
   ]
  },
  {
   "cell_type": "markdown",
   "metadata": {},
   "source": [
    "## 3. Funtions and Packages"
   ]
  },
  {
   "cell_type": "markdown",
   "metadata": {},
   "source": [
    "1. Max() - returns the max value form the list"
   ]
  },
  {
   "cell_type": "code",
   "execution_count": 76,
   "metadata": {},
   "outputs": [
    {
     "data": {
      "text/plain": [
       "100"
      ]
     },
     "execution_count": 76,
     "metadata": {},
     "output_type": "execute_result"
    }
   ],
   "source": [
    "float_list=[12,90,55,100,40]\n",
    "max(float_list)"
   ]
  },
  {
   "cell_type": "markdown",
   "metadata": {},
   "source": [
    "2. round() (number, digits on presition)"
   ]
  },
  {
   "cell_type": "code",
   "execution_count": 77,
   "metadata": {},
   "outputs": [
    {
     "data": {
      "text/plain": [
       "12.68"
      ]
     },
     "execution_count": 77,
     "metadata": {},
     "output_type": "execute_result"
    }
   ],
   "source": [
    "round(12.678,2)"
   ]
  },
  {
   "cell_type": "code",
   "execution_count": 78,
   "metadata": {},
   "outputs": [
    {
     "data": {
      "text/plain": [
       "13"
      ]
     },
     "execution_count": 78,
     "metadata": {},
     "output_type": "execute_result"
    }
   ],
   "source": [
    "round(12.678)"
   ]
  },
  {
   "cell_type": "markdown",
   "metadata": {},
   "source": [
    "3. len()"
   ]
  },
  {
   "cell_type": "code",
   "execution_count": 79,
   "metadata": {},
   "outputs": [
    {
     "data": {
      "text/plain": [
       "7"
      ]
     },
     "execution_count": 79,
     "metadata": {},
     "output_type": "execute_result"
    }
   ],
   "source": [
    "len('hellooo')"
   ]
  },
  {
   "cell_type": "markdown",
   "metadata": {},
   "source": [
    "4. sorted() - 3 arguments iterable, key and reverse"
   ]
  },
  {
   "cell_type": "code",
   "execution_count": 80,
   "metadata": {},
   "outputs": [
    {
     "name": "stdout",
     "output_type": "stream",
     "text": [
      "Help on built-in function sorted in module builtins:\n",
      "\n",
      "sorted(iterable, /, *, key=None, reverse=False)\n",
      "    Return a new list containing all items from the iterable in ascending order.\n",
      "    \n",
      "    A custom key function can be supplied to customize the sort order, and the\n",
      "    reverse flag can be set to request the result in descending order.\n",
      "\n"
     ]
    }
   ],
   "source": [
    "help(sorted)"
   ]
  },
  {
   "cell_type": "markdown",
   "metadata": {},
   "source": [
    "### Built-in Funtions\n",
    "#### Methods (specific to python objects)"
   ]
  },
  {
   "cell_type": "markdown",
   "metadata": {},
   "source": [
    "##### List methods"
   ]
  },
  {
   "cell_type": "markdown",
   "metadata": {},
   "source": [
    "1. index -return the value in the list"
   ]
  },
  {
   "cell_type": "code",
   "execution_count": 81,
   "metadata": {},
   "outputs": [
    {
     "data": {
      "text/plain": [
       "2"
      ]
     },
     "execution_count": 81,
     "metadata": {},
     "output_type": "execute_result"
    }
   ],
   "source": [
    "my_list.index('YOU')"
   ]
  },
  {
   "cell_type": "markdown",
   "metadata": {},
   "source": [
    "2. Count() - returns the count from the list"
   ]
  },
  {
   "cell_type": "code",
   "execution_count": 82,
   "metadata": {},
   "outputs": [
    {
     "data": {
      "text/plain": [
       "1"
      ]
     },
     "execution_count": 82,
     "metadata": {},
     "output_type": "execute_result"
    }
   ],
   "source": [
    "my_list.count('YOU')"
   ]
  },
  {
   "cell_type": "markdown",
   "metadata": {},
   "source": [
    "3. Capitalize - capitalizes the first letter\n",
    " - other capitalization [Other Capitalizations](https://stackoverflow.com/questions/352478/capitalize-a-string)"
   ]
  },
  {
   "cell_type": "code",
   "execution_count": 83,
   "metadata": {},
   "outputs": [
    {
     "data": {
      "text/plain": [
       "'My'"
      ]
     },
     "execution_count": 83,
     "metadata": {},
     "output_type": "execute_result"
    }
   ],
   "source": [
    "worker = 'my'\n",
    "worker.capitalize()\n"
   ]
  },
  {
   "cell_type": "markdown",
   "metadata": {},
   "source": [
    "4. Replace"
   ]
  },
  {
   "cell_type": "code",
   "execution_count": 84,
   "metadata": {},
   "outputs": [
    {
     "data": {
      "text/plain": [
       "'me'"
      ]
     },
     "execution_count": 84,
     "metadata": {},
     "output_type": "execute_result"
    }
   ],
   "source": [
    "worker.replace('y', 'e')"
   ]
  },
  {
   "cell_type": "markdown",
   "metadata": {},
   "source": [
    "5. Append on lists"
   ]
  },
  {
   "cell_type": "code",
   "execution_count": 85,
   "metadata": {},
   "outputs": [
    {
     "name": "stdout",
     "output_type": "stream",
     "text": [
      "['ME', 100.0, 'YOU', 2.0, 'variable', 5.0, 'new']\n"
     ]
    }
   ],
   "source": [
    "my_list.append('new')\n",
    "print(my_list)"
   ]
  },
  {
   "cell_type": "markdown",
   "metadata": {},
   "source": [
    "### Packages - Directory of python scripts ex -mod1.py\n",
    "1. Numpy - for arrays\n",
    "2. Matplotlib - data visualization\n",
    "3. Scikit-learn - machine learning\n",
    " - Use Terminal \n",
    "  - pip3 install Package Name"
   ]
  },
  {
   "cell_type": "markdown",
   "metadata": {},
   "source": [
    "## 4. Numpy (numeric python)\n",
    "Allows you to do calculation over entire arrays"
   ]
  },
  {
   "cell_type": "markdown",
   "metadata": {},
   "source": [
    "1. Create an array from list only floats or intergers\n",
    " - np.array(name of list)"
   ]
  },
  {
   "cell_type": "code",
   "execution_count": 86,
   "metadata": {},
   "outputs": [
    {
     "name": "stdout",
     "output_type": "stream",
     "text": [
      "[2.3 4.  8.1 9.  7.8]\n"
     ]
    }
   ],
   "source": [
    "import numpy as np\n",
    "\n",
    "#creating list with floats only\n",
    "\n",
    "hours=[2.3, 4.0, 8.1, 9.0, 7.8 ]\n",
    "\n",
    "np_hours= np.array(hours)\n",
    "print(np_hours)"
   ]
  },
  {
   "cell_type": "markdown",
   "metadata": {},
   "source": [
    "### Numpy Differences"
   ]
  },
  {
   "cell_type": "markdown",
   "metadata": {},
   "source": [
    "Calculating: Multiplying times 2"
   ]
  },
  {
   "cell_type": "code",
   "execution_count": 87,
   "metadata": {},
   "outputs": [
    {
     "name": "stdout",
     "output_type": "stream",
     "text": [
      "[ 4.6  8.  16.2 18.  15.6]\n"
     ]
    }
   ],
   "source": [
    "calc_np_hours= np_hours*2\n",
    "print(calc_np_hours)"
   ]
  },
  {
   "cell_type": "markdown",
   "metadata": {},
   "source": [
    "Differences in List and Arrays"
   ]
  },
  {
   "cell_type": "code",
   "execution_count": 88,
   "metadata": {},
   "outputs": [
    {
     "data": {
      "text/plain": [
       "[2.3, 4.0, 8.1, 9.0, 7.8, 2.3, 4.0, 8.1, 9.0, 7.8]"
      ]
     },
     "execution_count": 88,
     "metadata": {},
     "output_type": "execute_result"
    }
   ],
   "source": [
    "hours + hours"
   ]
  },
  {
   "cell_type": "code",
   "execution_count": 89,
   "metadata": {},
   "outputs": [
    {
     "data": {
      "text/plain": [
       "array([ 4.6,  8. , 16.2, 18. , 15.6])"
      ]
     },
     "execution_count": 89,
     "metadata": {},
     "output_type": "execute_result"
    }
   ],
   "source": [
    "np_hours + np_hours"
   ]
  },
  {
   "cell_type": "markdown",
   "metadata": {},
   "source": [
    "### Numpy Subsetting"
   ]
  },
  {
   "cell_type": "code",
   "execution_count": 90,
   "metadata": {},
   "outputs": [
    {
     "data": {
      "text/plain": [
       "4.0"
      ]
     },
     "execution_count": 90,
     "metadata": {},
     "output_type": "execute_result"
    }
   ],
   "source": [
    "np_hours[1]"
   ]
  },
  {
   "cell_type": "markdown",
   "metadata": {},
   "source": [
    "using math expressions"
   ]
  },
  {
   "cell_type": "code",
   "execution_count": 91,
   "metadata": {},
   "outputs": [
    {
     "data": {
      "text/plain": [
       "array([False, False,  True,  True, False])"
      ]
     },
     "execution_count": 91,
     "metadata": {},
     "output_type": "execute_result"
    }
   ],
   "source": [
    "np_hours > 8"
   ]
  },
  {
   "cell_type": "markdown",
   "metadata": {},
   "source": [
    "### 2D NumPy Array"
   ]
  },
  {
   "cell_type": "code",
   "execution_count": 93,
   "metadata": {},
   "outputs": [],
   "source": [
    "np_2d = np.array([[2.0, 3.5, 6.6, 7.6, 8.0], [3.5, 10.0, 8.8, 9.0, 5.5]])"
   ]
  },
  {
   "cell_type": "markdown",
   "metadata": {},
   "source": [
    "Code to know the shape of array"
   ]
  },
  {
   "cell_type": "code",
   "execution_count": 94,
   "metadata": {},
   "outputs": [
    {
     "data": {
      "text/plain": [
       "(2, 5)"
      ]
     },
     "execution_count": 94,
     "metadata": {},
     "output_type": "execute_result"
    }
   ],
   "source": [
    "np_2d.shape"
   ]
  },
  {
   "cell_type": "markdown",
   "metadata": {},
   "source": [
    "##### Subsetting 2D NumPy Arrays"
   ]
  },
  {
   "cell_type": "code",
   "execution_count": 95,
   "metadata": {},
   "outputs": [
    {
     "data": {
      "text/plain": [
       "array([2. , 3.5, 6.6, 7.6, 8. ])"
      ]
     },
     "execution_count": 95,
     "metadata": {},
     "output_type": "execute_result"
    }
   ],
   "source": [
    "np_2d[0]"
   ]
  },
  {
   "cell_type": "markdown",
   "metadata": {},
   "source": [
    "1. [row] [collumn]"
   ]
  },
  {
   "cell_type": "code",
   "execution_count": 96,
   "metadata": {},
   "outputs": [
    {
     "data": {
      "text/plain": [
       "7.6"
      ]
     },
     "execution_count": 96,
     "metadata": {},
     "output_type": "execute_result"
    }
   ],
   "source": [
    "np_2d[0][3]"
   ]
  },
  {
   "cell_type": "markdown",
   "metadata": {},
   "source": [
    "2. [row, collumn]"
   ]
  },
  {
   "cell_type": "code",
   "execution_count": 97,
   "metadata": {},
   "outputs": [
    {
     "data": {
      "text/plain": [
       "7.6"
      ]
     },
     "execution_count": 97,
     "metadata": {},
     "output_type": "execute_result"
    }
   ],
   "source": [
    "np_2d[0,3]"
   ]
  },
  {
   "cell_type": "code",
   "execution_count": 98,
   "metadata": {},
   "outputs": [
    {
     "data": {
      "text/plain": [
       "array([[ 3.5,  6.6],\n",
       "       [10. ,  8.8]])"
      ]
     },
     "execution_count": 98,
     "metadata": {},
     "output_type": "execute_result"
    }
   ],
   "source": [
    "np_2d[:,1:3]"
   ]
  },
  {
   "cell_type": "markdown",
   "metadata": {},
   "source": [
    "### Numpy: Basic Statistics"
   ]
  },
  {
   "cell_type": "markdown",
   "metadata": {},
   "source": [
    "##### Average"
   ]
  },
  {
   "cell_type": "code",
   "execution_count": 99,
   "metadata": {},
   "outputs": [
    {
     "data": {
      "text/plain": [
       "6.45"
      ]
     },
     "execution_count": 99,
     "metadata": {},
     "output_type": "execute_result"
    }
   ],
   "source": [
    "np.mean(np_2d)"
   ]
  },
  {
   "cell_type": "markdown",
   "metadata": {},
   "source": [
    "Average for one row"
   ]
  },
  {
   "cell_type": "code",
   "execution_count": 100,
   "metadata": {},
   "outputs": [
    {
     "data": {
      "text/plain": [
       "5.54"
      ]
     },
     "execution_count": 100,
     "metadata": {},
     "output_type": "execute_result"
    }
   ],
   "source": [
    "np.mean(np_2d[0,:])"
   ]
  },
  {
   "cell_type": "markdown",
   "metadata": {},
   "source": [
    "###### Median"
   ]
  },
  {
   "cell_type": "code",
   "execution_count": 101,
   "metadata": {},
   "outputs": [
    {
     "data": {
      "text/plain": [
       "7.1"
      ]
     },
     "execution_count": 101,
     "metadata": {},
     "output_type": "execute_result"
    }
   ],
   "source": [
    "np.median(np_2d)"
   ]
  },
  {
   "cell_type": "code",
   "execution_count": 102,
   "metadata": {},
   "outputs": [
    {
     "data": {
      "text/plain": [
       "6.6"
      ]
     },
     "execution_count": 102,
     "metadata": {},
     "output_type": "execute_result"
    }
   ],
   "source": [
    "np.median(np_2d[0,:])"
   ]
  },
  {
   "cell_type": "markdown",
   "metadata": {},
   "source": [
    "###### Correlation"
   ]
  },
  {
   "cell_type": "code",
   "execution_count": 104,
   "metadata": {},
   "outputs": [
    {
     "data": {
      "text/plain": [
       "array([[1.        , 0.29595853],\n",
       "       [0.29595853, 1.        ]])"
      ]
     },
     "execution_count": 104,
     "metadata": {},
     "output_type": "execute_result"
    }
   ],
   "source": [
    "np.corrcoef(np_2d[0,:], np_2d[1,:])"
   ]
  },
  {
   "cell_type": "markdown",
   "metadata": {},
   "source": [
    "###### Standard Deviation"
   ]
  },
  {
   "cell_type": "code",
   "execution_count": 106,
   "metadata": {},
   "outputs": [
    {
     "data": {
      "text/plain": [
       "2.371160053644629"
      ]
     },
     "execution_count": 106,
     "metadata": {},
     "output_type": "execute_result"
    }
   ],
   "source": [
    "np.std(np_2d[0,:])"
   ]
  },
  {
   "cell_type": "markdown",
   "metadata": {},
   "source": [
    "###### Sum"
   ]
  },
  {
   "cell_type": "code",
   "execution_count": null,
   "metadata": {},
   "outputs": [],
   "source": []
  },
  {
   "cell_type": "markdown",
   "metadata": {},
   "source": [
    "###### Sort"
   ]
  },
  {
   "cell_type": "code",
   "execution_count": null,
   "metadata": {},
   "outputs": [],
   "source": []
  },
  {
   "cell_type": "markdown",
   "metadata": {},
   "source": [
    "###### Random"
   ]
  },
  {
   "cell_type": "markdown",
   "metadata": {},
   "source": [
    "np.random.normal(mean, stdv, number of samples)"
   ]
  },
  {
   "cell_type": "code",
   "execution_count": 107,
   "metadata": {},
   "outputs": [],
   "source": [
    "weekh= np.round(np.random.normal(8,2.0,100),2)"
   ]
  },
  {
   "cell_type": "code",
   "execution_count": 108,
   "metadata": {},
   "outputs": [
    {
     "name": "stdout",
     "output_type": "stream",
     "text": [
      "[ 9.4   7.87  8.25  9.31  7.83  6.96 11.89  6.22  8.08  5.62 10.03  7.27\n",
      "  7.54  8.73 10.32  8.29 11.77  5.96  5.01  7.27  9.32 10.55 11.48 10.79\n",
      "  8.4   6.9   7.07  6.02  8.7  10.85  5.18  4.06  7.98  7.04  6.5   7.97\n",
      "  7.91  7.09  6.98  9.48  7.09  8.27  3.54  7.64 10.55  6.92  7.47  7.46\n",
      "  3.33  5.48  7.46 10.35  5.38  8.94  5.85  9.74  9.24 12.01  8.97 11.39\n",
      "  9.33  7.53  7.    7.33  8.5   5.17  8.37  4.39  6.51  4.84  8.98  7.5\n",
      "  8.07  6.69  8.28  6.49  6.28  7.56  9.69  7.41  9.94  7.27  7.51  8.62\n",
      "  9.93  5.71 11.87 10.81  8.47  6.65  8.42 10.62  9.57  7.92  7.37  8.65\n",
      "  7.08  8.74  4.54  8.68]\n"
     ]
    }
   ],
   "source": [
    "print(weekh)"
   ]
  },
  {
   "cell_type": "code",
   "execution_count": 114,
   "metadata": {},
   "outputs": [
    {
     "name": "stdout",
     "output_type": "stream",
     "text": [
      "[1.03 0.81 1.12 0.47 0.84 1.09 1.31 0.95 0.96 0.94 1.03 0.93 1.19 1.12\n",
      " 1.19 0.9  0.78 0.9  0.62 1.03 1.11 0.96 0.95 1.38 1.26 1.41 0.66 0.7\n",
      " 1.09 1.43 0.85 0.81 1.05 0.86 1.15 0.96 0.9  0.79 1.17 0.97 1.13 1.28\n",
      " 1.13 1.3  1.24 0.84 0.97 0.92 1.09 0.84 0.82 0.78 0.99 1.24 1.38 1.27\n",
      " 0.93 1.16 1.28 1.12 0.83 0.9  1.35 1.02 0.91 1.23 0.8  1.13 1.28 0.66\n",
      " 0.7  1.06 1.06 1.33 1.17 1.15 1.46 0.99 1.32 0.93 0.59 0.61 1.13 0.53\n",
      " 0.64 1.2  0.79 0.92 0.94 1.01 1.22 0.88 1.24 1.1  0.94 0.9  0.5  1.27\n",
      " 0.94 0.22]\n"
     ]
    }
   ],
   "source": [
    "weeklunch = np.round(np.random.normal(1,.25,100),2)\n",
    "print(weeklunch)"
   ]
  },
  {
   "cell_type": "markdown",
   "metadata": {},
   "source": [
    "Code created to generated lables for days of the week for 100 days\n",
    " - Logic: 100 days/5days a week = 20 weeks"
   ]
  },
  {
   "cell_type": "code",
   "execution_count": 132,
   "metadata": {},
   "outputs": [
    {
     "name": "stdout",
     "output_type": "stream",
     "text": [
      "['mo', 'we', 'tu', 'th', 'fr', 'mo', 'we', 'tu', 'th', 'fr', 'mo', 'we', 'tu', 'th', 'fr', 'mo', 'we', 'tu', 'th', 'fr', 'mo', 'we', 'tu', 'th', 'fr', 'mo', 'we', 'tu', 'th', 'fr', 'mo', 'we', 'tu', 'th', 'fr', 'mo', 'we', 'tu', 'th', 'fr', 'mo', 'we', 'tu', 'th', 'fr', 'mo', 'we', 'tu', 'th', 'fr', 'mo', 'we', 'tu', 'th', 'fr', 'mo', 'we', 'tu', 'th', 'fr', 'mo', 'we', 'tu', 'th', 'fr', 'mo', 'we', 'tu', 'th', 'fr', 'mo', 'we', 'tu', 'th', 'fr', 'mo', 'we', 'tu', 'th', 'fr', 'mo', 'we', 'tu', 'th', 'fr', 'mo', 'we', 'tu', 'th', 'fr', 'mo', 'we', 'tu', 'th', 'fr', 'mo', 'we', 'tu', 'th', 'fr']\n"
     ]
    }
   ],
   "source": [
    "daysofweek = ['mo', 'we', 'tu', 'th', 'fr']\n",
    "hdaysofweek = daysofweek *20\n",
    "print(hdaysofweek)\n",
    "np_hdaysofweek = np.array(hdaysofweek)"
   ]
  },
  {
   "cell_type": "markdown",
   "metadata": {},
   "source": [
    "Code to generate random choices from list or 1d array\n",
    " - random.choice(variable or list, times, probablilitis each element in list or array * must sum to 1)"
   ]
  },
  {
   "cell_type": "code",
   "execution_count": 127,
   "metadata": {},
   "outputs": [
    {
     "name": "stdout",
     "output_type": "stream",
     "text": [
      "['tu' 'tu' 'we' 'mo' 'fr' 'th' 'mo' 'mo' 'tu' 'th' 'fr' 'mo' 'tu' 'we'\n",
      " 'we' 'mo' 'mo' 'mo' 'we' 'we' 'mo' 'tu' 'tu' 'tu' 'we' 'fr' 'fr' 'we'\n",
      " 'th' 'fr' 'th' 'mo' 'th' 'mo' 'tu' 'th' 'mo' 'we' 'th' 'th' 'fr' 'tu'\n",
      " 'we' 'mo' 'we' 'th' 'mo' 'fr' 'th' 'fr' 'tu' 'tu' 'tu' 'we' 'th' 'mo'\n",
      " 'th' 'tu' 'mo' 'tu' 'th' 'th' 'mo' 'mo' 'tu' 'tu' 'mo' 'fr' 'th' 'fr'\n",
      " 'mo' 'tu' 'tu' 'mo' 'th' 'fr' 'mo' 'tu' 'mo' 'fr' 'th' 'we' 'we' 'th'\n",
      " 'th' 'we' 'fr' 'tu' 'th' 'mo' 'tu' 'tu' 'fr' 'fr' 'fr' 'th' 'th' 'tu'\n",
      " 'we' 'th']\n"
     ]
    }
   ],
   "source": [
    "np_daysofweek =np.random.choice(daysofweek, 100, p=[.2, .2, .2, .2, .2])\n",
    "print(np_daysofweek)"
   ]
  },
  {
   "cell_type": "markdown",
   "metadata": {},
   "source": [
    "##### Stack - Merge\n",
    "use astype(np.object) after array to keep as float"
   ]
  },
  {
   "cell_type": "code",
   "execution_count": 195,
   "metadata": {
    "scrolled": true
   },
   "outputs": [
    {
     "name": "stdout",
     "output_type": "stream",
     "text": [
      "[['mo' 9.4 1.03]\n",
      " ['we' 7.87 0.81]\n",
      " ['tu' 8.25 1.12]\n",
      " ['th' 9.31 0.47]\n",
      " ['fr' 7.83 0.84]\n",
      " ['mo' 6.96 1.09]\n",
      " ['we' 11.89 1.31]\n",
      " ['tu' 6.22 0.95]\n",
      " ['th' 8.08 0.96]\n",
      " ['fr' 5.62 0.94]\n",
      " ['mo' 10.03 1.03]\n",
      " ['we' 7.27 0.93]\n",
      " ['tu' 7.54 1.19]\n",
      " ['th' 8.73 1.12]\n",
      " ['fr' 10.32 1.19]\n",
      " ['mo' 8.29 0.9]\n",
      " ['we' 11.77 0.78]\n",
      " ['tu' 5.96 0.9]\n",
      " ['th' 5.01 0.62]\n",
      " ['fr' 7.27 1.03]\n",
      " ['mo' 9.32 1.11]\n",
      " ['we' 10.55 0.96]\n",
      " ['tu' 11.48 0.95]\n",
      " ['th' 10.79 1.38]\n",
      " ['fr' 8.4 1.26]\n",
      " ['mo' 6.9 1.41]\n",
      " ['we' 7.07 0.66]\n",
      " ['tu' 6.02 0.7]\n",
      " ['th' 8.7 1.09]\n",
      " ['fr' 10.85 1.43]\n",
      " ['mo' 5.18 0.85]\n",
      " ['we' 4.06 0.81]\n",
      " ['tu' 7.98 1.05]\n",
      " ['th' 7.04 0.86]\n",
      " ['fr' 6.5 1.15]\n",
      " ['mo' 7.97 0.96]\n",
      " ['we' 7.91 0.9]\n",
      " ['tu' 7.09 0.79]\n",
      " ['th' 6.98 1.17]\n",
      " ['fr' 9.48 0.97]\n",
      " ['mo' 7.09 1.13]\n",
      " ['we' 8.27 1.28]\n",
      " ['tu' 3.54 1.13]\n",
      " ['th' 7.64 1.3]\n",
      " ['fr' 10.55 1.24]\n",
      " ['mo' 6.92 0.84]\n",
      " ['we' 7.47 0.97]\n",
      " ['tu' 7.46 0.92]\n",
      " ['th' 3.33 1.09]\n",
      " ['fr' 5.48 0.84]\n",
      " ['mo' 7.46 0.82]\n",
      " ['we' 10.35 0.78]\n",
      " ['tu' 5.38 0.99]\n",
      " ['th' 8.94 1.24]\n",
      " ['fr' 5.85 1.38]\n",
      " ['mo' 9.74 1.27]\n",
      " ['we' 9.24 0.93]\n",
      " ['tu' 12.01 1.16]\n",
      " ['th' 8.97 1.28]\n",
      " ['fr' 11.39 1.12]\n",
      " ['mo' 9.33 0.83]\n",
      " ['we' 7.53 0.9]\n",
      " ['tu' 7.0 1.35]\n",
      " ['th' 7.33 1.02]\n",
      " ['fr' 8.5 0.91]\n",
      " ['mo' 5.17 1.23]\n",
      " ['we' 8.37 0.8]\n",
      " ['tu' 4.39 1.13]\n",
      " ['th' 6.51 1.28]\n",
      " ['fr' 4.84 0.66]\n",
      " ['mo' 8.98 0.7]\n",
      " ['we' 7.5 1.06]\n",
      " ['tu' 8.07 1.06]\n",
      " ['th' 6.69 1.33]\n",
      " ['fr' 8.28 1.17]\n",
      " ['mo' 6.49 1.15]\n",
      " ['we' 6.28 1.46]\n",
      " ['tu' 7.56 0.99]\n",
      " ['th' 9.69 1.32]\n",
      " ['fr' 7.41 0.93]\n",
      " ['mo' 9.94 0.59]\n",
      " ['we' 7.27 0.61]\n",
      " ['tu' 7.51 1.13]\n",
      " ['th' 8.62 0.53]\n",
      " ['fr' 9.93 0.64]\n",
      " ['mo' 5.71 1.2]\n",
      " ['we' 11.87 0.79]\n",
      " ['tu' 10.81 0.92]\n",
      " ['th' 8.47 0.94]\n",
      " ['fr' 6.65 1.01]\n",
      " ['mo' 8.42 1.22]\n",
      " ['we' 10.62 0.88]\n",
      " ['tu' 9.57 1.24]\n",
      " ['th' 7.92 1.1]\n",
      " ['fr' 7.37 0.94]\n",
      " ['mo' 8.65 0.9]\n",
      " ['we' 7.08 0.5]\n",
      " ['tu' 8.74 1.27]\n",
      " ['th' 4.54 0.94]\n",
      " ['fr' 8.68 0.22]]\n"
     ]
    }
   ],
   "source": [
    "np_workday= np.column_stack((np_hdaysofweek, weekh.astype(np.object), weeklunch.astype(np.object)))\n",
    "print(np_workday)"
   ]
  },
  {
   "cell_type": "markdown",
   "metadata": {},
   "source": [
    "Generated filter monday work hours with 2 different lists"
   ]
  },
  {
   "cell_type": "code",
   "execution_count": 151,
   "metadata": {},
   "outputs": [
    {
     "name": "stdout",
     "output_type": "stream",
     "text": [
      "[ 9.4   6.96 10.03  8.29  9.32  6.9   5.18  7.97  7.09  6.92  7.46  9.74\n",
      "  9.33  5.17  8.98  6.49  9.94  5.71  8.42  8.65]\n"
     ]
    }
   ],
   "source": [
    "mondaywork= weekh[np_hdaysofweek == 'mo']\n",
    "print(mondaywork)"
   ]
  },
  {
   "cell_type": "markdown",
   "metadata": {},
   "source": [
    "Generated filter for monday using the stacked array and array of days of the week\n",
    " - must use array with same length"
   ]
  },
  {
   "cell_type": "code",
   "execution_count": 196,
   "metadata": {
    "scrolled": true
   },
   "outputs": [
    {
     "name": "stdout",
     "output_type": "stream",
     "text": [
      "[9.4 6.96 10.03 8.29 9.32 6.9 5.18 7.97 7.09 6.92 7.46 9.74 9.33 5.17 8.98\n",
      " 6.49 9.94 5.71 8.42 8.65]\n"
     ]
    }
   ],
   "source": [
    "mowork = np_workday[np_hdaysofweek == 'mo', 1]\n",
    "print(mowork)"
   ]
  },
  {
   "cell_type": "code",
   "execution_count": 207,
   "metadata": {},
   "outputs": [
    {
     "name": "stdout",
     "output_type": "stream",
     "text": [
      "Average work hour on Monday: 7.9\n"
     ]
    }
   ],
   "source": [
    "print(\"Average work hour on Monday: \" + str(round(np.mean(mowork),2)))"
   ]
  },
  {
   "cell_type": "code",
   "execution_count": null,
   "metadata": {},
   "outputs": [],
   "source": []
  }
 ],
 "metadata": {
  "kernelspec": {
   "display_name": "Python 3",
   "language": "python",
   "name": "python3"
  },
  "language_info": {
   "codemirror_mode": {
    "name": "ipython",
    "version": 3
   },
   "file_extension": ".py",
   "mimetype": "text/x-python",
   "name": "python",
   "nbconvert_exporter": "python",
   "pygments_lexer": "ipython3",
   "version": "3.6.5"
  }
 },
 "nbformat": 4,
 "nbformat_minor": 2
}
